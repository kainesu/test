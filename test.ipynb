{
  "cells": [
    {
      "cell_type": "markdown",
      "metadata": {
        "colab_type": "text",
        "id": "view-in-github"
      },
      "source": [
        "<a href=\"https://colab.research.google.com/github/kainesu/test/blob/main/test.ipynb\" target=\"_parent\"><img src=\"https://colab.research.google.com/assets/colab-badge.svg\" alt=\"Open In Colab\"/></a>"
      ]
    },
    {
      "cell_type": "markdown",
      "metadata": {
        "id": "Jkgj4jJEs_L0"
      },
      "source": [
        "# Description\n",
        "21023 plate reader data from MG1655 (DE3) ALE in acetate conditions"
      ]
    },
    {
      "cell_type": "code",
      "execution_count": 3,
      "metadata": {
        "colab": {
          "base_uri": "https://localhost:8080/"
        },
        "id": "pbTuwQptrwxg",
        "outputId": "ab88cf34-0281-473b-986d-774658066721"
      },
      "outputs": [
        {
          "name": "stdout",
          "output_type": "stream",
          "text": [
            "wuv!\n",
            "wuv!\n",
            "omomo!!\n",
            "omg are vicky and ana dating?!\n"
          ]
        }
      ],
      "source": [
        "# this is some random test code\n",
        "for i in range(0,2):\n",
        "  print(\"wuv!\")\n",
        "\n",
        "# and now i am updating with this code on my macbook in vscode \n",
        "cindy = \"amazing\"\n",
        "if cindy == \"amazing\":\n",
        "  print(\"omomo!!\")\n",
        "else:\n",
        "  print(\"sadness\")\n",
        "\n",
        "def gay(name1, name2):\n",
        "  print(\"omg are \" + name1 + \" and \" + name2 + \" dating?!\")\n",
        "\n",
        "gay(\"vicky\", \"ana\")\n"
      ]
    }
  ],
  "metadata": {
    "colab": {
      "authorship_tag": "ABX9TyMyw1whK5kmTna8/bWi3gPl",
      "include_colab_link": true,
      "provenance": []
    },
    "kernelspec": {
      "display_name": "Python 3",
      "name": "python3"
    },
    "language_info": {
      "codemirror_mode": {
        "name": "ipython",
        "version": 3
      },
      "file_extension": ".py",
      "mimetype": "text/x-python",
      "name": "python",
      "nbconvert_exporter": "python",
      "pygments_lexer": "ipython3",
      "version": "3.11.2"
    }
  },
  "nbformat": 4,
  "nbformat_minor": 0
}
