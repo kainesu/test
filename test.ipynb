{
  "nbformat": 4,
  "nbformat_minor": 0,
  "metadata": {
    "colab": {
      "provenance": [],
      "authorship_tag": "ABX9TyMyw1whK5kmTna8/bWi3gPl",
      "include_colab_link": true
    },
    "kernelspec": {
      "name": "python3",
      "display_name": "Python 3"
    },
    "language_info": {
      "name": "python"
    }
  },
  "cells": [
    {
      "cell_type": "markdown",
      "metadata": {
        "id": "view-in-github",
        "colab_type": "text"
      },
      "source": [
        "<a href=\"https://colab.research.google.com/github/kainesu/test/blob/main/test.ipynb\" target=\"_parent\"><img src=\"https://colab.research.google.com/assets/colab-badge.svg\" alt=\"Open In Colab\"/></a>"
      ]
    },
    {
      "cell_type": "markdown",
      "source": [
        "# Description\n",
        "21023 plate reader data from MG1655 (DE3) ALE in acetate conditions"
      ],
      "metadata": {
        "id": "Jkgj4jJEs_L0"
      }
    },
    {
      "cell_type": "code",
      "execution_count": 1,
      "metadata": {
        "colab": {
          "base_uri": "https://localhost:8080/"
        },
        "id": "pbTuwQptrwxg",
        "outputId": "ab88cf34-0281-473b-986d-774658066721"
      },
      "outputs": [
        {
          "output_type": "stream",
          "name": "stdout",
          "text": [
            "wuv!\n",
            "wuv!\n"
          ]
        }
      ],
      "source": [
        "# this is some random test code\n",
        "for i in range(0,2):\n",
        "  print(\"wuv!\")"
      ]
    }
  ]
}